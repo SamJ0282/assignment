{
  "cells": [
    {
      "cell_type": "markdown",
      "id": "Br1jTOWNPRGL",
      "metadata": {
        "id": "Br1jTOWNPRGL"
      },
      "source": [
        "# Name - Samyak Jain\n",
        "# Student Id - 47688408"
      ]
    },
    {
      "cell_type": "code",
      "execution_count": null,
      "id": "QZPO4EU32bXW",
      "metadata": {
        "colab": {
          "base_uri": "https://localhost:8080/"
        },
        "id": "QZPO4EU32bXW",
        "outputId": "18b314aa-bb9f-489e-de5b-11230cfd91ee"
      },
      "outputs": [
        {
          "name": "stdout",
          "output_type": "stream",
          "text": [
            "Drive already mounted at /content/drive; to attempt to forcibly remount, call drive.mount(\"/content/drive\", force_remount=True).\n"
          ]
        }
      ],
      "source": [
        "#Mounting Google Drive so as to read dataset csv file from Google Drive\n",
        "from google.colab import drive\n",
        "drive.mount('/content/drive')"
      ]
    },
    {
      "cell_type": "markdown",
      "id": "379d9b3f",
      "metadata": {
        "id": "379d9b3f"
      },
      "source": [
        "# Analysis of Yelp Data\n",
        "\n",
        "\n",
        "The Yelp dataset is a collection of user-generated reviews and associated data for businesses in various cities. The data includes information such as the business name, category, location, and rating, as well as the user ID and review text for each review. This data can be used to analyze patterns and trends in consumer behavior, business performance, and geographic locations. Additionally, the dataset provides an opportunity to explore the relationships between different variables, such as ratings, reviews, and business categories. This data can be leveraged to gain insights and make informed decisions in a variety of industries, including marketing, business management, and public policy.\n",
        "\n",
        "Description of the variables of the data used here.\n",
        "\n",
        "* __business_id__ - A unique identifier for each business in the dataset\n",
        "* __business_categories__ - A list of categories associated with the business\n",
        "* __business_city__ - The city where the business is located.\n",
        "* __user_id__ - A unique identifier for each user who has written a review.\n",
        "* __text__ - The text of the review.\n",
        "* __stars__ - The user's rating towards the business\n",
        "* __useful__ - The number of times the review was voted as useful.\n",
        "* __date__ - The date the review was posted."
      ]
    },
    {
      "cell_type": "markdown",
      "id": "5edf3fef",
      "metadata": {
        "id": "5edf3fef"
      },
      "source": [
        " # Q1. Check and remove missing data\n",
        " \n",
        "### Q1.1 Write a Python code snippet that checks for missing values in each column of the dataset. If any, only display the names of the columns with missing values and their corresponding number of missing values. Print the length of the data before removing the missing data.\n",
        "\n",
        "Note: Only output the number of missing values for the columns having at least one missing value!"
      ]
    },
    {
      "cell_type": "code",
      "execution_count": null,
      "id": "ChCJUVGhv8mY",
      "metadata": {
        "id": "ChCJUVGhv8mY"
      },
      "outputs": [],
      "source": [
        "#Importing libraries\n",
        "import pandas as pd\n",
        "import random\n",
        "import matplotlib.pyplot as plt"
      ]
    },
    {
      "cell_type": "code",
      "execution_count": null,
      "id": "5303e35a",
      "metadata": {
        "id": "5303e35a"
      },
      "outputs": [],
      "source": [
        "#Reading dataset csv file from Google Drive\n",
        "yelp = pd.read_csv('/content/drive/MyDrive/Colab Notebooks/Yelp_Portfolio1_Input.csv')"
      ]
    },
    {
      "cell_type": "code",
      "execution_count": null,
      "id": "W8U1D1JI2Zx3",
      "metadata": {
        "colab": {
          "base_uri": "https://localhost:8080/"
        },
        "id": "W8U1D1JI2Zx3",
        "outputId": "00945fee-6fdb-4930-de48-c2077d1bc74e"
      },
      "outputs": [
        {
          "name": "stdout",
          "output_type": "stream",
          "text": [
            "Length of the data  set is: 229907\n"
          ]
        }
      ],
      "source": [
        "#Length(number of rows) of the data before removing missing values\n",
        "print(\"Length of the data  set is:\",len(yelp))"
      ]
    },
    {
      "cell_type": "code",
      "execution_count": null,
      "id": "Y5vGqZeeBNMN",
      "metadata": {
        "colab": {
          "base_uri": "https://localhost:8080/"
        },
        "id": "Y5vGqZeeBNMN",
        "outputId": "8cca99db-d733-41d3-9976-000f2722dcf7"
      },
      "outputs": [
        {
          "name": "stdout",
          "output_type": "stream",
          "text": [
            "Column name: business_categories, Missing values:777\n",
            "Column name: text, Missing values:6\n"
          ]
        }
      ],
      "source": [
        "#Display names of columns with missing values and their corresponding number of missing values\n",
        "\n",
        "for col in yelp.columns: # For each column in dataset\n",
        "  if yelp[col].isnull().any(): #For any column, is there is atleast 1 missing value, then run below code\n",
        "    print(f\"Column name: {col}\" + \", \" + f\"Missing values:{yelp[col].isnull().sum()}\") #Printing Column name and its corresponding missing values"
      ]
    },
    {
      "cell_type": "markdown",
      "id": "da3df088",
      "metadata": {
        "id": "da3df088"
      },
      "source": [
        "### Q1.2 Remove any row that contains at least one missing value, and output the length of the resulting cleaned dataset; After that, remove any row that contain invalid value with either \"#NAME?\" or \"#VALUE!\" in the `business_id` and `user_id` columns, and output the length of the resulting cleaned dataset."
      ]
    },
    {
      "cell_type": "code",
      "execution_count": null,
      "id": "ba17f19d",
      "metadata": {
        "id": "ba17f19d"
      },
      "outputs": [],
      "source": [
        "#Remove any row that contains at least one missing value\n",
        "yelp_notnull = yelp.dropna(axis = 0)"
      ]
    },
    {
      "cell_type": "code",
      "execution_count": null,
      "id": "mtMIf8GlUT2m",
      "metadata": {
        "colab": {
          "base_uri": "https://localhost:8080/"
        },
        "id": "mtMIf8GlUT2m",
        "outputId": "fcbcb2c2-4590-4239-c79c-7f0b724b0d9e"
      },
      "outputs": [
        {
          "name": "stdout",
          "output_type": "stream",
          "text": [
            "Length of the dataset after removing missing values is: 229124\n"
          ]
        }
      ],
      "source": [
        "#Output the length of the resulting cleaned dataset\n",
        "print(\"Length of the dataset after removing missing values is:\",len(yelp_notnull))"
      ]
    },
    {
      "cell_type": "code",
      "execution_count": null,
      "id": "sexpgR0UWM2Y",
      "metadata": {
        "colab": {
          "base_uri": "https://localhost:8080/"
        },
        "id": "sexpgR0UWM2Y",
        "outputId": "69882f55-c6cd-463a-bda5-d198a44098cd"
      },
      "outputs": [
        {
          "name": "stdout",
          "output_type": "stream",
          "text": [
            "Lenght of cleaned dataset: 222759\n"
          ]
        }
      ],
      "source": [
        "#Removing rows having either #NAME? or #VALUE! as value in business id and user id columns\n",
        "cleaned_yelp = yelp_notnull.loc[~((yelp_notnull['business_id'] == \"#NAME?\") | (yelp_notnull['user_id'] == \"#NAME?\")|(yelp_notnull['business_id'] == \"#VALUE!\") | (yelp_notnull['user_id'] == \"#VALUE!\"))]\n",
        "print(\"Lenght of cleaned dataset:\",len(cleaned_yelp))\n"
      ]
    },
    {
      "cell_type": "markdown",
      "id": "334b9f9e",
      "metadata": {
        "id": "334b9f9e"
      },
      "source": [
        "# Q2. Random Subset Selection of Yelp Businesses by City"
      ]
    },
    {
      "cell_type": "markdown",
      "id": "b386ff6c",
      "metadata": {
        "id": "b386ff6c"
      },
      "source": [
        "Selecting a random subset of cities from the Yelp business dataset and extracting all the rows corresponding to businesses located in those cities can be useful for various purposes. For example, it can be used to \n",
        "perform exploratory data analysis on a smaller subset of the dataset, which can be more manageable and faster to process than the entire dataset. Suppose you want to select a random subset of 10 cities from the dataset and extract all the rows that correspond to businesses located in those cities. At last, print the length of the resulting sample data. Write Python code that accomplishes this task.\n",
        "\n",
        "Note: Use the $random.sample()$ function to select 10 random cities from the list of unique cities. Set the random seed to 42 before selecting the cities!!!"
      ]
    },
    {
      "cell_type": "code",
      "execution_count": null,
      "id": "b2SalYosSV7D",
      "metadata": {
        "colab": {
          "base_uri": "https://localhost:8080/",
          "height": 206
        },
        "id": "b2SalYosSV7D",
        "outputId": "89478679-e91d-466e-c372-c066ec9f71c0"
      },
      "outputs": [
        {
          "data": {
            "text/html": [
              "\n",
              "  <div id=\"df-7c8ebf14-b6fd-4836-a1fc-2c7bca38670d\">\n",
              "    <div class=\"colab-df-container\">\n",
              "      <div>\n",
              "<style scoped>\n",
              "    .dataframe tbody tr th:only-of-type {\n",
              "        vertical-align: middle;\n",
              "    }\n",
              "\n",
              "    .dataframe tbody tr th {\n",
              "        vertical-align: top;\n",
              "    }\n",
              "\n",
              "    .dataframe thead th {\n",
              "        text-align: right;\n",
              "    }\n",
              "</style>\n",
              "<table border=\"1\" class=\"dataframe\">\n",
              "  <thead>\n",
              "    <tr style=\"text-align: right;\">\n",
              "      <th></th>\n",
              "      <th>business_categories</th>\n",
              "      <th>business_city</th>\n",
              "      <th>business_id</th>\n",
              "      <th>date</th>\n",
              "      <th>stars</th>\n",
              "      <th>text</th>\n",
              "      <th>useful</th>\n",
              "      <th>user_id</th>\n",
              "    </tr>\n",
              "  </thead>\n",
              "  <tbody>\n",
              "    <tr>\n",
              "      <th>0</th>\n",
              "      <td>Breakfast &amp; Brunch; Restaurants</td>\n",
              "      <td>Phoenix</td>\n",
              "      <td>9yKzy9PApeiPPOUJEtnvkg</td>\n",
              "      <td>26/1/2011</td>\n",
              "      <td>5</td>\n",
              "      <td>My wife took me here on my birthday for breakf...</td>\n",
              "      <td>5</td>\n",
              "      <td>rLtl8ZkDX5vH5nAx9C3q5Q</td>\n",
              "    </tr>\n",
              "    <tr>\n",
              "      <th>1</th>\n",
              "      <td>Italian; Pizza; Restaurants</td>\n",
              "      <td>Phoenix</td>\n",
              "      <td>ZRJwVLyzEJq1VAihDhYiow</td>\n",
              "      <td>27/7/2011</td>\n",
              "      <td>5</td>\n",
              "      <td>I have no idea why some people give bad review...</td>\n",
              "      <td>0</td>\n",
              "      <td>0a2KyEL0d3Yb1V6aivbIuQ</td>\n",
              "    </tr>\n",
              "    <tr>\n",
              "      <th>2</th>\n",
              "      <td>Middle Eastern; Restaurants</td>\n",
              "      <td>Tempe</td>\n",
              "      <td>6oRAC4uyJCsJl1X0WZpVSA</td>\n",
              "      <td>14/6/2012</td>\n",
              "      <td>4</td>\n",
              "      <td>love the gyro plate. Rice is so good and I als...</td>\n",
              "      <td>1</td>\n",
              "      <td>0hT2KtfLiobPvh6cDC8JQg</td>\n",
              "    </tr>\n",
              "    <tr>\n",
              "      <th>3</th>\n",
              "      <td>Active Life; Dog Parks; Parks</td>\n",
              "      <td>Scottsdale</td>\n",
              "      <td>_1QQZuf4zZOyFCvXc0o6Vg</td>\n",
              "      <td>27/5/2010</td>\n",
              "      <td>5</td>\n",
              "      <td>Rosie, Dakota, and I LOVE Chaparral Dog Park!!...</td>\n",
              "      <td>2</td>\n",
              "      <td>uZetl9T0NcROGOyFfughhg</td>\n",
              "    </tr>\n",
              "    <tr>\n",
              "      <th>4</th>\n",
              "      <td>Tires; Automotive</td>\n",
              "      <td>Mesa</td>\n",
              "      <td>6ozycU1RpktNG2-1BroVtw</td>\n",
              "      <td>5/1/2012</td>\n",
              "      <td>5</td>\n",
              "      <td>General Manager Scott Petello is a good egg!!!...</td>\n",
              "      <td>0</td>\n",
              "      <td>vYmM4KTsC8ZfQBg-j5MWkw</td>\n",
              "    </tr>\n",
              "  </tbody>\n",
              "</table>\n",
              "</div>\n",
              "      <button class=\"colab-df-convert\" onclick=\"convertToInteractive('df-7c8ebf14-b6fd-4836-a1fc-2c7bca38670d')\"\n",
              "              title=\"Convert this dataframe to an interactive table.\"\n",
              "              style=\"display:none;\">\n",
              "        \n",
              "  <svg xmlns=\"http://www.w3.org/2000/svg\" height=\"24px\"viewBox=\"0 0 24 24\"\n",
              "       width=\"24px\">\n",
              "    <path d=\"M0 0h24v24H0V0z\" fill=\"none\"/>\n",
              "    <path d=\"M18.56 5.44l.94 2.06.94-2.06 2.06-.94-2.06-.94-.94-2.06-.94 2.06-2.06.94zm-11 1L8.5 8.5l.94-2.06 2.06-.94-2.06-.94L8.5 2.5l-.94 2.06-2.06.94zm10 10l.94 2.06.94-2.06 2.06-.94-2.06-.94-.94-2.06-.94 2.06-2.06.94z\"/><path d=\"M17.41 7.96l-1.37-1.37c-.4-.4-.92-.59-1.43-.59-.52 0-1.04.2-1.43.59L10.3 9.45l-7.72 7.72c-.78.78-.78 2.05 0 2.83L4 21.41c.39.39.9.59 1.41.59.51 0 1.02-.2 1.41-.59l7.78-7.78 2.81-2.81c.8-.78.8-2.07 0-2.86zM5.41 20L4 18.59l7.72-7.72 1.47 1.35L5.41 20z\"/>\n",
              "  </svg>\n",
              "      </button>\n",
              "      \n",
              "  <style>\n",
              "    .colab-df-container {\n",
              "      display:flex;\n",
              "      flex-wrap:wrap;\n",
              "      gap: 12px;\n",
              "    }\n",
              "\n",
              "    .colab-df-convert {\n",
              "      background-color: #E8F0FE;\n",
              "      border: none;\n",
              "      border-radius: 50%;\n",
              "      cursor: pointer;\n",
              "      display: none;\n",
              "      fill: #1967D2;\n",
              "      height: 32px;\n",
              "      padding: 0 0 0 0;\n",
              "      width: 32px;\n",
              "    }\n",
              "\n",
              "    .colab-df-convert:hover {\n",
              "      background-color: #E2EBFA;\n",
              "      box-shadow: 0px 1px 2px rgba(60, 64, 67, 0.3), 0px 1px 3px 1px rgba(60, 64, 67, 0.15);\n",
              "      fill: #174EA6;\n",
              "    }\n",
              "\n",
              "    [theme=dark] .colab-df-convert {\n",
              "      background-color: #3B4455;\n",
              "      fill: #D2E3FC;\n",
              "    }\n",
              "\n",
              "    [theme=dark] .colab-df-convert:hover {\n",
              "      background-color: #434B5C;\n",
              "      box-shadow: 0px 1px 3px 1px rgba(0, 0, 0, 0.15);\n",
              "      filter: drop-shadow(0px 1px 2px rgba(0, 0, 0, 0.3));\n",
              "      fill: #FFFFFF;\n",
              "    }\n",
              "  </style>\n",
              "\n",
              "      <script>\n",
              "        const buttonEl =\n",
              "          document.querySelector('#df-7c8ebf14-b6fd-4836-a1fc-2c7bca38670d button.colab-df-convert');\n",
              "        buttonEl.style.display =\n",
              "          google.colab.kernel.accessAllowed ? 'block' : 'none';\n",
              "\n",
              "        async function convertToInteractive(key) {\n",
              "          const element = document.querySelector('#df-7c8ebf14-b6fd-4836-a1fc-2c7bca38670d');\n",
              "          const dataTable =\n",
              "            await google.colab.kernel.invokeFunction('convertToInteractive',\n",
              "                                                     [key], {});\n",
              "          if (!dataTable) return;\n",
              "\n",
              "          const docLinkHtml = 'Like what you see? Visit the ' +\n",
              "            '<a target=\"_blank\" href=https://colab.research.google.com/notebooks/data_table.ipynb>data table notebook</a>'\n",
              "            + ' to learn more about interactive tables.';\n",
              "          element.innerHTML = '';\n",
              "          dataTable['output_type'] = 'display_data';\n",
              "          await google.colab.output.renderOutput(dataTable, element);\n",
              "          const docLink = document.createElement('div');\n",
              "          docLink.innerHTML = docLinkHtml;\n",
              "          element.appendChild(docLink);\n",
              "        }\n",
              "      </script>\n",
              "    </div>\n",
              "  </div>\n",
              "  "
            ],
            "text/plain": [
              "               business_categories business_city             business_id  \\\n",
              "0  Breakfast & Brunch; Restaurants       Phoenix  9yKzy9PApeiPPOUJEtnvkg   \n",
              "1      Italian; Pizza; Restaurants       Phoenix  ZRJwVLyzEJq1VAihDhYiow   \n",
              "2      Middle Eastern; Restaurants         Tempe  6oRAC4uyJCsJl1X0WZpVSA   \n",
              "3    Active Life; Dog Parks; Parks    Scottsdale  _1QQZuf4zZOyFCvXc0o6Vg   \n",
              "4                Tires; Automotive          Mesa  6ozycU1RpktNG2-1BroVtw   \n",
              "\n",
              "        date  stars                                               text  \\\n",
              "0  26/1/2011      5  My wife took me here on my birthday for breakf...   \n",
              "1  27/7/2011      5  I have no idea why some people give bad review...   \n",
              "2  14/6/2012      4  love the gyro plate. Rice is so good and I als...   \n",
              "3  27/5/2010      5  Rosie, Dakota, and I LOVE Chaparral Dog Park!!...   \n",
              "4   5/1/2012      5  General Manager Scott Petello is a good egg!!!...   \n",
              "\n",
              "   useful                 user_id  \n",
              "0       5  rLtl8ZkDX5vH5nAx9C3q5Q  \n",
              "1       0  0a2KyEL0d3Yb1V6aivbIuQ  \n",
              "2       1  0hT2KtfLiobPvh6cDC8JQg  \n",
              "3       2  uZetl9T0NcROGOyFfughhg  \n",
              "4       0  vYmM4KTsC8ZfQBg-j5MWkw  "
            ]
          },
          "execution_count": 24,
          "metadata": {},
          "output_type": "execute_result"
        }
      ],
      "source": [
        "#Displaying first 5 rows of cleaned dataset\n",
        "cleaned_yelp.head()"
      ]
    },
    {
      "cell_type": "code",
      "execution_count": null,
      "id": "U4VQ4NMWGfov",
      "metadata": {
        "colab": {
          "base_uri": "https://localhost:8080/"
        },
        "id": "U4VQ4NMWGfov",
        "outputId": "be5c315b-edd7-46f4-d6b3-de4b5c00240b"
      },
      "outputs": [
        {
          "name": "stdout",
          "output_type": "stream",
          "text": [
            "Number of unique cities is 61\n"
          ]
        }
      ],
      "source": [
        "#Getting unique cities count\n",
        "print(f\"Number of unique cities is {len(cleaned_yelp['business_city'].unique())}\")"
      ]
    },
    {
      "cell_type": "code",
      "execution_count": null,
      "id": "EOUnJ-QqQRGE",
      "metadata": {
        "id": "EOUnJ-QqQRGE"
      },
      "outputs": [],
      "source": [
        "#Storing the list of unique cities  in the variable names unique_cities\n",
        "unique_cities = cleaned_yelp['business_city'].unique().tolist()"
      ]
    },
    {
      "cell_type": "code",
      "execution_count": null,
      "id": "RQwjBxdSQcoj",
      "metadata": {
        "id": "RQwjBxdSQcoj"
      },
      "outputs": [],
      "source": [
        "#Setting the state to number 42, so as to get the same result everytime\n",
        "random.seed(42)\n",
        "\n",
        "#Selecting 10 random cities from a list of unique cities\n",
        "unique_10 = random.sample(unique_cities,10)\n"
      ]
    },
    {
      "cell_type": "code",
      "execution_count": null,
      "id": "z5OPkaLSHVFA",
      "metadata": {
        "id": "z5OPkaLSHVFA"
      },
      "outputs": [],
      "source": [
        "#Storing a sample subset of 10 unique cities data in the variable named 'sample_data'\n",
        "sample_data = cleaned_yelp.loc[cleaned_yelp['business_city'].isin(unique_10)]"
      ]
    },
    {
      "cell_type": "code",
      "execution_count": null,
      "id": "lZ0EvYteGY8D",
      "metadata": {
        "colab": {
          "base_uri": "https://localhost:8080/"
        },
        "id": "lZ0EvYteGY8D",
        "outputId": "a8f6be03-b2da-4e5b-bea2-550904d1869e"
      },
      "outputs": [
        {
          "name": "stdout",
          "output_type": "stream",
          "text": [
            "Length of subset of 10 cities: 38654\n"
          ]
        }
      ],
      "source": [
        "# Length of the resulting sample data\n",
        "print(\"Length of subset of 10 cities:\", len(sample_data))"
      ]
    },
    {
      "cell_type": "markdown",
      "id": "0ff5298a",
      "metadata": {
        "id": "0ff5298a"
      },
      "source": [
        "# Q3. Descriptive statistics on the data output from Q2\n",
        "### Q3.1 Compute summary statistics for the `stars` column of the sample data\n",
        "Note: the resulting output includes the count, mean, standard deviation, minimum, maximum values of the column."
      ]
    },
    {
      "cell_type": "code",
      "execution_count": null,
      "id": "2utOyWWpRSha",
      "metadata": {
        "colab": {
          "base_uri": "https://localhost:8080/"
        },
        "id": "2utOyWWpRSha",
        "outputId": "92626196-9694-47b4-8dd7-af319a80f100"
      },
      "outputs": [
        {
          "name": "stdout",
          "output_type": "stream",
          "text": [
            "Summary statistics for the 'stars' column: count    38654.000000\n",
            "mean         3.707922\n",
            "std          1.240872\n",
            "min          1.000000\n",
            "25%          3.000000\n",
            "50%          4.000000\n",
            "75%          5.000000\n",
            "max          5.000000\n",
            "Name: stars, dtype: float64\n"
          ]
        }
      ],
      "source": [
        "stars_summary = sample_data['stars'].describe()\n",
        "print(f\"Summary statistics for the 'stars' column: {stars_summary}\")"
      ]
    },
    {
      "cell_type": "markdown",
      "id": "9ac40c1f",
      "metadata": {
        "id": "9ac40c1f"
      },
      "source": [
        "### Q3.2 For each city in the dataframe, how many unique businesses are there?\n",
        "\n",
        "Note: the resulting dataframe has two columns: `business_city` and `count`. Compute summary statistics (similar as Q 3.1) for the `count` column."
      ]
    },
    {
      "cell_type": "code",
      "execution_count": null,
      "id": "42af9783",
      "metadata": {
        "colab": {
          "base_uri": "https://localhost:8080/"
        },
        "id": "42af9783",
        "outputId": "cf44923d-9d47-4704-ae38-c1050739d304"
      },
      "outputs": [
        {
          "name": "stdout",
          "output_type": "stream",
          "text": [
            "Number of unique businesses for each city:\n",
            "\n",
            "    business_city       count\n",
            "--  ----------------  -------\n",
            " 0  Ahwatukee               4\n",
            " 1  Anthem                 34\n",
            " 2  Apache Junction        46\n",
            " 3  Avondale              129\n",
            " 4  Buckeye                31\n",
            " 5  Carefree               20\n",
            " 6  Casa Grande            48\n",
            " 7  Cave Creek             65\n",
            " 8  Chandler              856\n",
            " 9  Charleston              1\n",
            "10  Coolidge                5\n",
            "11  El Mirage              11\n",
            "12  Florence               10\n",
            "13  Fort McDowell           7\n",
            "14  Fountain Hills         47\n",
            "15  Fountain Hls            2\n",
            "16  Gila Bend              10\n",
            "17  Gilbert               432\n",
            "18  Glendale              600\n",
            "19  Glendale Az             1\n",
            "20  Gold Canyon            13\n",
            "21  Goldfield               1\n",
            "22  Good Year               1\n",
            "23  Goodyear              122\n",
            "24  Grand Junction          1\n",
            "25  Guadalupe               4\n",
            "26  Higley                  6\n",
            "27  Laveen                 22\n",
            "28  Litchfield Park        26\n",
            "29  Maricopa               31\n",
            "30  Mesa                  889\n",
            "31  Morristown              5\n",
            "32  North Pinal             1\n",
            "33  North Scottsdale        1\n",
            "34  Paradise Valley        56\n",
            "35  Peoria                264\n",
            "36  Pheonix                 1\n",
            "37  Phoenix              4091\n",
            "38  Queen Creek            77\n",
            "39  Rio Verde               2\n",
            "40  Saguaro Lake            1\n",
            "41  San Tan Valley          6\n",
            "42  Scottsdale           2004\n",
            "43  Scottsdale              2\n",
            "44  Stanfield               1\n",
            "45  Sun City               28\n",
            "46  Sun City Anthem         1\n",
            "47  Sun City West           8\n",
            "48  Sun Lakes               4\n",
            "49  Surprise              159\n",
            "50  Tempe                1138\n",
            "51  Tolleson               22\n",
            "52  Tonopah                 3\n",
            "53  Tonto Basin             1\n",
            "54  Tortilla Flat           3\n",
            "55  Tucson                  1\n",
            "56  Waddell                 1\n",
            "57  Wickenburg             28\n",
            "58  Wittmann                2\n",
            "59  Youngtown               7\n",
            "60  Yuma                    1\n"
          ]
        }
      ],
      "source": [
        "#tabulate to print data into tabular form\n",
        "from tabulate import tabulate \n",
        "\n",
        "# Compute the number of unique businesses for each city\n",
        "# Groupby method is used to group DataFrame df by 'business_city' column and compute the number of unique businesses in each group using the nunique() method.\n",
        "unique_businesses = yelp.groupby('business_city')['business_id'].nunique().reset_index() \n",
        "\n",
        "# Rename the columns\n",
        "unique_businesses.columns = ['business_city', 'count']\n",
        "\n",
        "# Print the resulting dataframe\n",
        "print(f\"Number of unique businesses for each city:\\n\")\n",
        "print(tabulate(unique_businesses, headers = ['business_city', 'count']))"
      ]
    },
    {
      "cell_type": "code",
      "execution_count": null,
      "id": "TnyVFVEwL69O",
      "metadata": {
        "colab": {
          "base_uri": "https://localhost:8080/"
        },
        "id": "TnyVFVEwL69O",
        "outputId": "a35093c0-b941-46d7-83c5-b41497fcad99"
      },
      "outputs": [
        {
          "name": "stdout",
          "output_type": "stream",
          "text": [
            "Summary statistics for the 'count' column:\n",
            "count      61.000000\n",
            "mean      186.786885\n",
            "std       607.491485\n",
            "min         1.000000\n",
            "25%         2.000000\n",
            "50%         8.000000\n",
            "75%        47.000000\n",
            "max      4091.000000\n",
            "Name: count, dtype: float64\n"
          ]
        }
      ],
      "source": [
        "# Compute summary statistics for the \"count\" column\n",
        "count_summary = unique_businesses['count'].describe()\n",
        "\n",
        "# Print the summary statistics\n",
        "print(f\"Summary statistics for the 'count' column:\\n{count_summary}\")"
      ]
    },
    {
      "cell_type": "markdown",
      "id": "90c84abe",
      "metadata": {
        "id": "90c84abe"
      },
      "source": [
        "### Q3.3 For each business category and business ID combination in the dataframe, how many unique users have rated the business?\n",
        "\n",
        "Note: the resulting dataframe has three columns: `business_categories`, `business_id`, and `count`. Compute summary statistics (similar as Q 3.1) for the `count` column."
      ]
    },
    {
      "cell_type": "code",
      "execution_count": null,
      "id": "442afa03",
      "metadata": {
        "colab": {
          "base_uri": "https://localhost:8080/"
        },
        "id": "442afa03",
        "outputId": "78f22ec3-e810-4bc4-bf9c-29788a881ae5"
      },
      "outputs": [
        {
          "name": "stdout",
          "output_type": "stream",
          "text": [
            "Number of unique users who have rated each business in each category: 11316\n",
            "\n",
            "Summary statistics for the 'count' column:\n",
            "count    11316.000000\n",
            "mean        20.168257\n",
            "std         43.084559\n",
            "min          2.000000\n",
            "25%          4.000000\n",
            "50%          6.000000\n",
            "75%         17.000000\n",
            "max        833.000000\n",
            "Name: count, dtype: float64\n"
          ]
        }
      ],
      "source": [
        "#Calculating the count of unique users who have rated each business in each category\n",
        "category_counts = yelp.groupby(['business_categories', 'business_id'])['user_id'].nunique().reset_index()\n",
        "\n",
        "#Renaming the columns\n",
        "category_counts.columns = ['business_categories', 'business_id', 'count']\n",
        "\n",
        "#sSummary statistics for the \"count\" column\n",
        "count_summary = category_counts['count'].describe()\n",
        "\n",
        "#Print the category counts and summary statistics\n",
        "print(f\"Number of unique users who have rated each business in each category: {len(category_counts)}\")\n",
        "\n",
        "print(f\"\\nSummary statistics for the 'count' column:\\n{count_summary}\")\n"
      ]
    },
    {
      "cell_type": "markdown",
      "id": "8e5b9d9f",
      "metadata": {
        "id": "8e5b9d9f"
      },
      "source": [
        "# Q4. Plotting and Analysis"
      ]
    },
    {
      "cell_type": "markdown",
      "id": "1fe2a1bb",
      "metadata": {
        "id": "1fe2a1bb"
      },
      "source": [
        "Explore the distribution of each variable, or the correlation between the `business_city`, `useful`,`business_categories` or `other variables` and the `stars` column in both the cleaned dataset from Q1 and the sampled dataset from Q2. For instance, does some cities tend to provide higher stars than others? Hint: you may use the boxplot function to plot figures for comparison (___Challenge___).\n",
        "    \n",
        "You may need to select the most suitable graphic forms for ease of presentation. Most importantly, for each figure or subfigure, please summarise ___what each plot shows___ (i.e. observations and explanations). Finally, you may need to provide an overall summary of the Yelp data."
      ]
    },
    {
      "cell_type": "markdown",
      "id": "d5e27994",
      "metadata": {
        "id": "d5e27994"
      },
      "source": [
        "Analysis and observation are open, and require you to think critically and analyze data to develop your own insights and conclusions. It's important for you to analyze the data, identify patterns, draw your own conclusions, and communicate your findings. This fosters critical thinking skills, ownership of learning, and a deeper understanding of the data."
      ]
    },
    {
      "cell_type": "code",
      "execution_count": null,
      "id": "-EEuU8WOiAj_",
      "metadata": {
        "colab": {
          "base_uri": "https://localhost:8080/",
          "height": 916
        },
        "id": "-EEuU8WOiAj_",
        "outputId": "3eee9072-fd12-4c09-f4e8-daa771c8ef6c"
      },
      "outputs": [
        {
          "data": {
            "image/png": "[encoded data removed]",
            "text/plain": [
              "<Figure size 864x432 with 1 Axes>"
            ]
          },
          "metadata": {
            "needs_background": "light"
          },
          "output_type": "display_data"
        },
        {
          "data": {
            "image/png": "[encoded data removed]",
            "text/plain": [
              "<Figure size 864x432 with 1 Axes>"
            ]
          },
          "metadata": {
            "needs_background": "light"
          },
          "output_type": "display_data"
        }
      ],
      "source": [
        "# Box plot of stars by business_city in the cleaned dataset\n",
        "plt.figure(figsize=(12,6))\n",
        "sns.boxplot(x='business_city', y='stars', data=cleaned_yelp)\n",
        "plt.title(\"Distribution of Stars by City in the Cleaned Dataset\")\n",
        "plt.xticks(rotation=90)\n",
        "plt.yticks(rotation = 45)\n",
        "plt.show()\n",
        "\n",
        "# Box plot of stars by business_city in the sampled dataset\n",
        "plt.figure(figsize=(12,6))\n",
        "sns.boxplot(x='business_city', y='stars', data=sample_data)\n",
        "plt.title(\"Distribution of Stars by City in the Sampled Dataset\")\n",
        "plt.xticks(rotation=45)\n",
        "plt.yticks(rotation = 45)\n",
        "plt.show()"
      ]
    },
    {
      "cell_type": "markdown",
      "id": "ozo7ABRrTiHM",
      "metadata": {
        "id": "ozo7ABRrTiHM"
      },
      "source": [
        "#Analysis of above graph\n",
        "The above box plots shows the distribution of stars for different business cities.\n",
        "\n",
        "The first box plot is about the distribution of stars by business cities in the cleaned dataset. We can observe that most of the cities have median stars around 4.0. Moreover, some cities are having higher stars than other cities.\n",
        "\n",
        "The second box plot is about the distribution of stars by business cities in the sampled dataset.We can observe that except the 'Saguar Lake' city, all cities have median 4.0 stars\n",
        "\n",
        "\n"
      ]
    },
    {
      "cell_type": "markdown",
      "id": "SBmyQsLXcKMC",
      "metadata": {
        "id": "SBmyQsLXcKMC"
      },
      "source": [
        "We can take advantage of scatter plots to explore the correlation between different variables and the \"stars\" column and to visualize the relationship between the variables. \n",
        "\n",
        "Below is an example of how we can leverage scatter plots to explore the correlation between the \"useful\" variable and the \"stars\" column in both the cleaned dataset and the sampled dataset:"
      ]
    },
    {
      "cell_type": "code",
      "execution_count": null,
      "id": "e8fl_N-OMsdq",
      "metadata": {
        "colab": {
          "base_uri": "https://localhost:8080/",
          "height": 791
        },
        "id": "e8fl_N-OMsdq",
        "outputId": "c7320f72-8fa3-42a0-efc2-02b17adb2653"
      },
      "outputs": [
        {
          "data": {
            "image/png": "[encoded data removed]",
            "text/plain": [
              "<Figure size 720x432 with 1 Axes>"
            ]
          },
          "metadata": {
            "needs_background": "light"
          },
          "output_type": "display_data"
        },
        {
          "data": {
            "image/png": "[encoded data removed]",
            "text/plain": [
              "<Figure size 720x432 with 1 Axes>"
            ]
          },
          "metadata": {
            "needs_background": "light"
          },
          "output_type": "display_data"
        }
      ],
      "source": [
        "# Scatter plot between stars and useful in the cleaned dataset\n",
        "plt.figure(figsize=(10,6))\n",
        "sns.scatterplot(x='useful', y='stars', data=cleaned_yelp)\n",
        "plt.title(\"Correlation Between Useful and Stars in the Cleaned Dataset\")\n",
        "# plt.xticks(rotation=90)\n",
        "plt.yticks(rotation = 45)\n",
        "\n",
        "plt.show()\n",
        "\n",
        "# Scatter plot between stars and useful in the sample dataset\n",
        "plt.figure(figsize=(10,6))\n",
        "sns.scatterplot(x='useful', y='stars', data=sample_data)\n",
        "plt.title(\"Correlation Between Useful and Stars in the Sampled Dataset\")\n",
        "# plt.xticks(rotation=90)\n",
        "plt.yticks(rotation = 45)\n",
        "\n",
        "plt.show()"
      ]
    },
    {
      "cell_type": "code",
      "execution_count": null,
      "id": "rNHSf3-aMzSR",
      "metadata": {
        "colab": {
          "base_uri": "https://localhost:8080/"
        },
        "id": "rNHSf3-aMzSR",
        "outputId": "e5bfbf1d-827e-4482-bdec-259fb88fcbec"
      },
      "outputs": [
        {
          "name": "stdout",
          "output_type": "stream",
          "text": [
            "Correlation between stars and useful: -0.03\n"
          ]
        }
      ],
      "source": [
        "correlation = cleaned_yelp['stars'].corr(cleaned_yelp['useful'])\n",
        "print(f\"Correlation between stars and useful: {correlation:.2f}\")"
      ]
    },
    {
      "cell_type": "markdown",
      "id": "-sTsBI-PdPu2",
      "metadata": {
        "id": "-sTsBI-PdPu2"
      },
      "source": [
        "A negative correlation coefficient of -0.03 between stars and useful suggests that there is a weak negative correlation between these two variables. This implies that as the number of useful votes increases for a business, the average star rating tends to decrease slightly. Since the correlation is weak, so this relationship is not very strong or have any strong significance. "
      ]
    },
    {
      "cell_type": "markdown",
      "id": "OBIbahJONDCb",
      "metadata": {
        "id": "OBIbahJONDCb"
      },
      "source": [
        "# Summary"
      ]
    },
    {
      "cell_type": "markdown",
      "id": "bjFmpHxofZ9-",
      "metadata": {
        "id": "bjFmpHxofZ9-"
      },
      "source": [
        "By using various graphical representations such as box plots and scatter plots, we explored the distribution of each variable and their correlation with the 'stars' column in the Yelp dataset. \n",
        "\n",
        "The analysis involved several steps from loading, cleaning the dataset by removing nulll and invalid values. \n",
        "\n",
        "For exploratory data analysis, a sample data was selected to calculate summary statistics for several variables, including stars and useful.\n",
        "\n",
        "The main findings from analysing Yelp dataset was the presence of weak negative correlation between the stars and useful variables. This suggests that businesses with higher ratings may not necessarily be more useful to users.\n",
        "This will help users to choose the right businesess accordingly.\n",
        "\n",
        "Moreover, some cities tended to have higher ratings than others, indicating that there may be differences in the quality of businesses across different cities."
      ]
    }
  ],
  "metadata": {
    "colab": {
      "provenance": []
    },
    "kernelspec": {
      "display_name": "Python 3 (ipykernel)",
      "language": "python",
      "name": "python3"
    },
    "language_info": {
      "codemirror_mode": {
        "name": "ipython",
        "version": 3
      },
      "file_extension": ".py",
      "mimetype": "text/x-python",
      "name": "python",
      "nbconvert_exporter": "python",
      "pygments_lexer": "ipython3",
      "version": "3.9.16"
    }
  },
  "nbformat": 4,
  "nbformat_minor": 5
}
